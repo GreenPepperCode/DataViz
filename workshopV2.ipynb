{
 "cells": [
  {
   "cell_type": "code",
   "execution_count": 6,
   "metadata": {},
   "outputs": [
    {
     "data": {
      "text/markdown": [
       "# Dashboard Pokémon"
      ],
      "text/plain": [
       "<IPython.core.display.Markdown object>"
      ]
     },
     "metadata": {},
     "output_type": "display_data"
    },
    {
     "data": {
      "text/markdown": [
       "## Analyse des Statistiques des Pokémon"
      ],
      "text/plain": [
       "<IPython.core.display.Markdown object>"
      ]
     },
     "metadata": {},
     "output_type": "display_data"
    },
    {
     "data": {
      "application/vnd.jupyter.widget-view+json": {
       "model_id": "d2a2496476e34328bfd094f81c3e93f3",
       "version_major": 2,
       "version_minor": 0
      },
      "text/plain": [
       "Dropdown(description='Type:', options=('Tous', 'GRASS', 'POISON', 'FIRE', 'FLYING', 'DRAGON', 'WATER', 'BUG', …"
      ]
     },
     "metadata": {},
     "output_type": "display_data"
    },
    {
     "data": {
      "application/vnd.jupyter.widget-view+json": {
       "model_id": "0e0b9210919840029840e8d623231a5b",
       "version_major": 2,
       "version_minor": 0
      },
      "text/plain": [
       "Button(description='Mettre à jour', style=ButtonStyle())"
      ]
     },
     "metadata": {},
     "output_type": "display_data"
    },
    {
     "data": {
      "application/vnd.jupyter.widget-view+json": {
       "model_id": "8f1a0ae0c3bd4860977e727e915540e5",
       "version_major": 2,
       "version_minor": 0
      },
      "text/plain": [
       "Output()"
      ]
     },
     "metadata": {},
     "output_type": "display_data"
    }
   ],
   "source": [
    "import pandas as pd\n",
    "import seaborn as sns\n",
    "import matplotlib.pyplot as plt\n",
    "import numpy as np\n",
    "import ipywidgets as widgets\n",
    "from IPython.display import display, Markdown\n",
    "from ipywidgets import Output, Button\n",
    "\n",
    "# Lire le fichier Excel et charger chaque feuille dans un DataFrame\n",
    "xls = pd.ExcelFile(r'C:\\Users\\yzi\\Desktop\\Travaux\\DataViz\\data\\pokemon.xlsx')\n",
    "sheets = {sheet_name: xls.parse(sheet_name) for sheet_name in xls.sheet_names}\n",
    "\n",
    "# Affichage du titre et de la description du dashboard\n",
    "display(Markdown(\"# Dashboard Pokémon\"))\n",
    "display(Markdown(\"## Analyse des Statistiques des Pokémon\"))\n",
    "\n",
    "# Widget Dropdown pour le filtre de type de Pokémon\n",
    "type_filter = widgets.Dropdown(\n",
    "    options=['Tous'] + list(sheets['Pokemon']['Type'].unique()),\n",
    "    value='Tous',\n",
    "    description='Type:',\n",
    ")\n",
    "\n",
    "# Bouton de mise à jour\n",
    "update_button = Button(description=\"Mettre à jour\")\n",
    "\n",
    "# Espace de sortie\n",
    "output = Output()\n",
    "\n",
    "# Fonction de mise à jour avec visualisations\n",
    "def update_visualizations():\n",
    "    selected_type = type_filter.value\n",
    "    with output:\n",
    "        output.clear_output()\n",
    "        # Affichage de la sélection du filtre\n",
    "        print(f\"Type sélectionné : {selected_type}\")\n",
    "\n",
    "        # Filtrer les données\n",
    "        filtered_data = sheets['Pokemon']\n",
    "        if selected_type != 'Tous':\n",
    "            filtered_data = filtered_data[filtered_data['Type'] == selected_type]\n",
    "\n",
    "        # Visualisation de la moyenne des HP par type de Pokémon\n",
    "        plt.figure(figsize=(14, 7))\n",
    "        sns.barplot(x='Type', y='HP', data=filtered_data, estimator=np.mean)\n",
    "        plt.title('Moyenne des HP par type de Pokémon')\n",
    "        plt.xticks(rotation=45)\n",
    "        plt.show()\n",
    "\n",
    "        # Visualisation du nombre de Pokémon par type\n",
    "        plt.figure(figsize=(14, 7))\n",
    "        sns.countplot(x='Type', data=filtered_data)\n",
    "        plt.title('Nombre de Pokémon par type')\n",
    "        plt.xticks(rotation=45)\n",
    "        plt.show()\n",
    "\n",
    "        # Relation entre les statistiques d'Attaque et de Défense\n",
    "        plt.figure(figsize=(14, 7))\n",
    "        sns.scatterplot(x='Attack', y='Defense', data=filtered_data, hue='Type')\n",
    "        plt.title('Attaque vs Défense par type de Pokémon')\n",
    "        plt.show()\n",
    "\n",
    "# Gestionnaire de clics pour le bouton\n",
    "def on_update_button_clicked(b):\n",
    "    update_visualizations()\n",
    "\n",
    "update_button.on_click(on_update_button_clicked)\n",
    "\n",
    "# Affichage des widgets et de l'espace de sortie\n",
    "display(type_filter, update_button, output)\n",
    "\n",
    "# Initialisation des visualisations\n",
    "update_visualizations()\n"
   ]
  }
 ],
 "metadata": {
  "kernelspec": {
   "display_name": "Python 3",
   "language": "python",
   "name": "python3"
  },
  "language_info": {
   "codemirror_mode": {
    "name": "ipython",
    "version": 3
   },
   "file_extension": ".py",
   "mimetype": "text/x-python",
   "name": "python",
   "nbconvert_exporter": "python",
   "pygments_lexer": "ipython3",
   "version": "3.12.1"
  }
 },
 "nbformat": 4,
 "nbformat_minor": 2
}
